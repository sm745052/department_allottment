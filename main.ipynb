{
 "cells": [
  {
   "cell_type": "code",
   "execution_count": null,
   "id": "854298bc",
   "metadata": {},
   "outputs": [],
   "source": [
    "import numpy as np\n",
    "import pandas as pd\n",
    "cutoff=8.5"
   ]
  },
  {
   "cell_type": "code",
   "execution_count": null,
   "id": "aa457019",
   "metadata": {},
   "outputs": [],
   "source": [
    "data=pd.read_csv('preference.csv').drop('Unnamed: 0',axis=1)"
   ]
  },
  {
   "cell_type": "code",
   "execution_count": null,
   "id": "9160c069",
   "metadata": {},
   "outputs": [],
   "source": [
    "data"
   ]
  },
  {
   "cell_type": "code",
   "execution_count": null,
   "id": "b202a022",
   "metadata": {},
   "outputs": [],
   "source": [
    "sorted_data=data.sort_values(by='percentage', ascending=False)"
   ]
  },
  {
   "cell_type": "code",
   "execution_count": null,
   "id": "e0926a71",
   "metadata": {},
   "outputs": [],
   "source": [
    "eligible_sorted=sorted_data[sorted_data['percentage']>=8.5]"
   ]
  },
  {
   "cell_type": "code",
   "execution_count": null,
   "id": "c9f3beca",
   "metadata": {},
   "outputs": [],
   "source": [
    "eligible_sorted"
   ]
  },
  {
   "cell_type": "code",
   "execution_count": null,
   "id": "bf35c97e",
   "metadata": {},
   "outputs": [],
   "source": [
    "branch={}\n",
    "allotted={'A':0,'B':0,'C':0,'D':0,'E':0}\n",
    "capacity={'A':12,'B':10,'C':9,'D':13,'E':15}\n",
    "def allott(x):\n",
    "    name=x[-1]\n",
    "    pref=x[1:-1]\n",
    "    for i in pref:\n",
    "        if(i==1 and allotted['A']<capacity['A']):\n",
    "            branch[name]='A'\n",
    "            allotted['A']+=1\n",
    "            return\n",
    "        if(i==2 and allotted['B']<capacity['B']):\n",
    "            branch[name]='B'\n",
    "            allotted['B']+=1\n",
    "            return\n",
    "        if(i==3 and allotted['C']<capacity['C']):\n",
    "            branch[name]='C'\n",
    "            allotted['C']+=1\n",
    "            return\n",
    "        if(i==4 and allotted['D']<capacity['D']):\n",
    "            branch[name]='D'\n",
    "            allotted['D']+=1\n",
    "            return\n",
    "        if(i==5 and allotted['E']<capacity['E']):\n",
    "            branch[name]='E'\n",
    "            allotted['E']+=1\n",
    "            return"
   ]
  },
  {
   "cell_type": "code",
   "execution_count": null,
   "id": "c2e02536",
   "metadata": {},
   "outputs": [],
   "source": [
    "for i in eligible_sorted.values:\n",
    "    allott(i)"
   ]
  },
  {
   "cell_type": "code",
   "execution_count": null,
   "id": "11c8168c",
   "metadata": {},
   "outputs": [],
   "source": [
    "branch"
   ]
  },
  {
   "cell_type": "code",
   "execution_count": null,
   "id": "4721758f",
   "metadata": {},
   "outputs": [],
   "source": [
    "allotted_branches=pd.DataFrame()"
   ]
  },
  {
   "cell_type": "code",
   "execution_count": null,
   "id": "894b89c3",
   "metadata": {},
   "outputs": [],
   "source": [
    "allotted_branches['name']=branch.keys()"
   ]
  },
  {
   "cell_type": "code",
   "execution_count": null,
   "id": "8229931c",
   "metadata": {},
   "outputs": [],
   "source": [
    "allotted_branches['branch']=branch.values()"
   ]
  },
  {
   "cell_type": "code",
   "execution_count": null,
   "id": "8d9d4738",
   "metadata": {},
   "outputs": [],
   "source": [
    "allotted_branches"
   ]
  },
  {
   "cell_type": "code",
   "execution_count": null,
   "id": "ce010635",
   "metadata": {},
   "outputs": [],
   "source": [
    "allotted_branches.to_csv('Branch_allottment.csv')"
   ]
  }
 ],
 "metadata": {
  "kernelspec": {
   "display_name": "Python 3",
   "language": "python",
   "name": "python3"
  },
  "language_info": {
   "codemirror_mode": {
    "name": "ipython",
    "version": 3
   },
   "file_extension": ".py",
   "mimetype": "text/x-python",
   "name": "python",
   "nbconvert_exporter": "python",
   "pygments_lexer": "ipython3",
   "version": "3.8.8"
  }
 },
 "nbformat": 4,
 "nbformat_minor": 5
}
